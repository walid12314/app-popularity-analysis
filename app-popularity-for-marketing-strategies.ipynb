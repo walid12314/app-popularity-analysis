{
 "cells": [
  {
   "cell_type": "markdown",
   "id": "10756d44",
   "metadata": {
    "papermill": {
     "duration": 0.009976,
     "end_time": "2024-09-21T08:44:46.659729",
     "exception": false,
     "start_time": "2024-09-21T08:44:46.649753",
     "status": "completed"
    },
    "tags": []
   },
   "source": [
    "# 📊 App Popularity Analysis of Google Play Store Apps\n",
    "\n",
    "## Introduction\n",
    "The Google Play Store is a vast marketplace for mobile applications. Understanding app popularity is crucial for developers, marketers, and business analysts. This analysis aims to uncover insights related to app downloads and ratings, which can inform strategic decisions.\n",
    "\n",
    "### Objectives\n",
    "- Identify the most downloaded apps.\n",
    "- Explore the relationship between app ratings and installs.\n",
    "- Analyze average ratings across different app categories.\n",
    "\n",
    "---\n",
    "\n",
    "## 📂 Dataset Overview\n",
    "The dataset used for this analysis is **Google-Playstore.csv**, which includes various features/columns/fields like:\n",
    "- **App Name**: Name of the application\n",
    "- **Category**: App category (e.g., Games, Education)\n",
    "- **Rating**: User rating of the app\n",
    "- **Reviews**: Number of user reviews\n",
    "- **Installs**: Number of times the app has been downloaded and many more !\n",
    "\n",
    "---\n",
    "\n",
    "## 🔧 Step 1: Import Libraries\n",
    "We begin by importing the necessary libraries for data manipulation and visualization."
   ]
  },
  {
   "cell_type": "code",
   "execution_count": 1,
   "id": "b3140497",
   "metadata": {
    "execution": {
     "iopub.execute_input": "2024-09-21T08:44:46.680300Z",
     "iopub.status.busy": "2024-09-21T08:44:46.679588Z",
     "iopub.status.idle": "2024-09-21T08:44:48.496119Z",
     "shell.execute_reply": "2024-09-21T08:44:48.495169Z"
    },
    "papermill": {
     "duration": 1.829583,
     "end_time": "2024-09-21T08:44:48.498705",
     "exception": false,
     "start_time": "2024-09-21T08:44:46.669122",
     "status": "completed"
    },
    "tags": []
   },
   "outputs": [],
   "source": [
    "import pandas as pd\n",
    "import matplotlib.pyplot as plt\n",
    "import seaborn as sns"
   ]
  },
  {
   "cell_type": "markdown",
   "id": "15830331",
   "metadata": {
    "papermill": {
     "duration": 0.009142,
     "end_time": "2024-09-21T08:44:48.517315",
     "exception": false,
     "start_time": "2024-09-21T08:44:48.508173",
     "status": "completed"
    },
    "tags": []
   },
   "source": [
    "## 📥 Step 2: Load the Dataset\n",
    "Next, we load the dataset and take a look at the first few entries to understand its structure."
   ]
  },
  {
   "cell_type": "code",
   "execution_count": 2,
   "id": "ecc87f96",
   "metadata": {
    "execution": {
     "iopub.execute_input": "2024-09-21T08:44:48.537943Z",
     "iopub.status.busy": "2024-09-21T08:44:48.536905Z",
     "iopub.status.idle": "2024-09-21T08:45:20.308342Z",
     "shell.execute_reply": "2024-09-21T08:45:20.307199Z"
    },
    "papermill": {
     "duration": 31.793775,
     "end_time": "2024-09-21T08:45:20.320384",
     "exception": false,
     "start_time": "2024-09-21T08:44:48.526609",
     "status": "completed"
    },
    "tags": []
   },
   "outputs": [
    {
     "data": {
      "text/html": [
       "<div>\n",
       "<style scoped>\n",
       "    .dataframe tbody tr th:only-of-type {\n",
       "        vertical-align: middle;\n",
       "    }\n",
       "\n",
       "    .dataframe tbody tr th {\n",
       "        vertical-align: top;\n",
       "    }\n",
       "\n",
       "    .dataframe thead th {\n",
       "        text-align: right;\n",
       "    }\n",
       "</style>\n",
       "<table border=\"1\" class=\"dataframe\">\n",
       "  <thead>\n",
       "    <tr style=\"text-align: right;\">\n",
       "      <th></th>\n",
       "      <th>App Name</th>\n",
       "      <th>App Id</th>\n",
       "      <th>Category</th>\n",
       "      <th>Rating</th>\n",
       "      <th>Rating Count</th>\n",
       "      <th>Installs</th>\n",
       "      <th>Minimum Installs</th>\n",
       "      <th>Maximum Installs</th>\n",
       "      <th>Free</th>\n",
       "      <th>Price</th>\n",
       "      <th>...</th>\n",
       "      <th>Developer Website</th>\n",
       "      <th>Developer Email</th>\n",
       "      <th>Released</th>\n",
       "      <th>Last Updated</th>\n",
       "      <th>Content Rating</th>\n",
       "      <th>Privacy Policy</th>\n",
       "      <th>Ad Supported</th>\n",
       "      <th>In App Purchases</th>\n",
       "      <th>Editors Choice</th>\n",
       "      <th>Scraped Time</th>\n",
       "    </tr>\n",
       "  </thead>\n",
       "  <tbody>\n",
       "    <tr>\n",
       "      <th>0</th>\n",
       "      <td>Gakondo</td>\n",
       "      <td>com.ishakwe.gakondo</td>\n",
       "      <td>Adventure</td>\n",
       "      <td>0.0</td>\n",
       "      <td>0.0</td>\n",
       "      <td>10+</td>\n",
       "      <td>10.0</td>\n",
       "      <td>15</td>\n",
       "      <td>True</td>\n",
       "      <td>0.0</td>\n",
       "      <td>...</td>\n",
       "      <td>https://beniyizibyose.tk/#/</td>\n",
       "      <td>jean21101999@gmail.com</td>\n",
       "      <td>Feb 26, 2020</td>\n",
       "      <td>Feb 26, 2020</td>\n",
       "      <td>Everyone</td>\n",
       "      <td>https://beniyizibyose.tk/projects/</td>\n",
       "      <td>False</td>\n",
       "      <td>False</td>\n",
       "      <td>False</td>\n",
       "      <td>2021-06-15 20:19:35</td>\n",
       "    </tr>\n",
       "    <tr>\n",
       "      <th>1</th>\n",
       "      <td>Ampere Battery Info</td>\n",
       "      <td>com.webserveis.batteryinfo</td>\n",
       "      <td>Tools</td>\n",
       "      <td>4.4</td>\n",
       "      <td>64.0</td>\n",
       "      <td>5,000+</td>\n",
       "      <td>5000.0</td>\n",
       "      <td>7662</td>\n",
       "      <td>True</td>\n",
       "      <td>0.0</td>\n",
       "      <td>...</td>\n",
       "      <td>https://webserveis.netlify.app/</td>\n",
       "      <td>webserveis@gmail.com</td>\n",
       "      <td>May 21, 2020</td>\n",
       "      <td>May 06, 2021</td>\n",
       "      <td>Everyone</td>\n",
       "      <td>https://dev4phones.wordpress.com/licencia-de-uso/</td>\n",
       "      <td>True</td>\n",
       "      <td>False</td>\n",
       "      <td>False</td>\n",
       "      <td>2021-06-15 20:19:35</td>\n",
       "    </tr>\n",
       "    <tr>\n",
       "      <th>2</th>\n",
       "      <td>Vibook</td>\n",
       "      <td>com.doantiepvien.crm</td>\n",
       "      <td>Productivity</td>\n",
       "      <td>0.0</td>\n",
       "      <td>0.0</td>\n",
       "      <td>50+</td>\n",
       "      <td>50.0</td>\n",
       "      <td>58</td>\n",
       "      <td>True</td>\n",
       "      <td>0.0</td>\n",
       "      <td>...</td>\n",
       "      <td>NaN</td>\n",
       "      <td>vnacrewit@gmail.com</td>\n",
       "      <td>Aug 9, 2019</td>\n",
       "      <td>Aug 19, 2019</td>\n",
       "      <td>Everyone</td>\n",
       "      <td>https://www.vietnamairlines.com/vn/en/terms-an...</td>\n",
       "      <td>False</td>\n",
       "      <td>False</td>\n",
       "      <td>False</td>\n",
       "      <td>2021-06-15 20:19:35</td>\n",
       "    </tr>\n",
       "    <tr>\n",
       "      <th>3</th>\n",
       "      <td>Smart City Trichy Public Service Vehicles 17UC...</td>\n",
       "      <td>cst.stJoseph.ug17ucs548</td>\n",
       "      <td>Communication</td>\n",
       "      <td>5.0</td>\n",
       "      <td>5.0</td>\n",
       "      <td>10+</td>\n",
       "      <td>10.0</td>\n",
       "      <td>19</td>\n",
       "      <td>True</td>\n",
       "      <td>0.0</td>\n",
       "      <td>...</td>\n",
       "      <td>http://www.climatesmarttech.com/</td>\n",
       "      <td>climatesmarttech2@gmail.com</td>\n",
       "      <td>Sep 10, 2018</td>\n",
       "      <td>Oct 13, 2018</td>\n",
       "      <td>Everyone</td>\n",
       "      <td>NaN</td>\n",
       "      <td>True</td>\n",
       "      <td>False</td>\n",
       "      <td>False</td>\n",
       "      <td>2021-06-15 20:19:35</td>\n",
       "    </tr>\n",
       "    <tr>\n",
       "      <th>4</th>\n",
       "      <td>GROW.me</td>\n",
       "      <td>com.horodyski.grower</td>\n",
       "      <td>Tools</td>\n",
       "      <td>0.0</td>\n",
       "      <td>0.0</td>\n",
       "      <td>100+</td>\n",
       "      <td>100.0</td>\n",
       "      <td>478</td>\n",
       "      <td>True</td>\n",
       "      <td>0.0</td>\n",
       "      <td>...</td>\n",
       "      <td>http://www.horodyski.com.pl</td>\n",
       "      <td>rmilekhorodyski@gmail.com</td>\n",
       "      <td>Feb 21, 2020</td>\n",
       "      <td>Nov 12, 2018</td>\n",
       "      <td>Everyone</td>\n",
       "      <td>http://www.horodyski.com.pl</td>\n",
       "      <td>False</td>\n",
       "      <td>False</td>\n",
       "      <td>False</td>\n",
       "      <td>2021-06-15 20:19:35</td>\n",
       "    </tr>\n",
       "  </tbody>\n",
       "</table>\n",
       "<p>5 rows × 24 columns</p>\n",
       "</div>"
      ],
      "text/plain": [
       "                                            App Name  \\\n",
       "0                                            Gakondo   \n",
       "1                                Ampere Battery Info   \n",
       "2                                             Vibook   \n",
       "3  Smart City Trichy Public Service Vehicles 17UC...   \n",
       "4                                            GROW.me   \n",
       "\n",
       "                       App Id       Category  Rating  Rating Count Installs  \\\n",
       "0         com.ishakwe.gakondo      Adventure     0.0           0.0      10+   \n",
       "1  com.webserveis.batteryinfo          Tools     4.4          64.0   5,000+   \n",
       "2        com.doantiepvien.crm   Productivity     0.0           0.0      50+   \n",
       "3     cst.stJoseph.ug17ucs548  Communication     5.0           5.0      10+   \n",
       "4        com.horodyski.grower          Tools     0.0           0.0     100+   \n",
       "\n",
       "   Minimum Installs  Maximum Installs  Free  Price  ...  \\\n",
       "0              10.0                15  True    0.0  ...   \n",
       "1            5000.0              7662  True    0.0  ...   \n",
       "2              50.0                58  True    0.0  ...   \n",
       "3              10.0                19  True    0.0  ...   \n",
       "4             100.0               478  True    0.0  ...   \n",
       "\n",
       "                  Developer Website              Developer Email  \\\n",
       "0       https://beniyizibyose.tk/#/       jean21101999@gmail.com   \n",
       "1   https://webserveis.netlify.app/         webserveis@gmail.com   \n",
       "2                               NaN          vnacrewit@gmail.com   \n",
       "3  http://www.climatesmarttech.com/  climatesmarttech2@gmail.com   \n",
       "4       http://www.horodyski.com.pl    rmilekhorodyski@gmail.com   \n",
       "\n",
       "       Released  Last Updated Content Rating  \\\n",
       "0  Feb 26, 2020  Feb 26, 2020       Everyone   \n",
       "1  May 21, 2020  May 06, 2021       Everyone   \n",
       "2   Aug 9, 2019  Aug 19, 2019       Everyone   \n",
       "3  Sep 10, 2018  Oct 13, 2018       Everyone   \n",
       "4  Feb 21, 2020  Nov 12, 2018       Everyone   \n",
       "\n",
       "                                      Privacy Policy Ad Supported  \\\n",
       "0                 https://beniyizibyose.tk/projects/        False   \n",
       "1  https://dev4phones.wordpress.com/licencia-de-uso/         True   \n",
       "2  https://www.vietnamairlines.com/vn/en/terms-an...        False   \n",
       "3                                                NaN         True   \n",
       "4                        http://www.horodyski.com.pl        False   \n",
       "\n",
       "  In App Purchases Editors Choice         Scraped Time  \n",
       "0            False          False  2021-06-15 20:19:35  \n",
       "1            False          False  2021-06-15 20:19:35  \n",
       "2            False          False  2021-06-15 20:19:35  \n",
       "3            False          False  2021-06-15 20:19:35  \n",
       "4            False          False  2021-06-15 20:19:35  \n",
       "\n",
       "[5 rows x 24 columns]"
      ]
     },
     "execution_count": 2,
     "metadata": {},
     "output_type": "execute_result"
    }
   ],
   "source": [
    "df = pd.read_csv('/kaggle/input/google-playstore-apps/Google-Playstore.csv')\n",
    "df.head()             # First Few Entries"
   ]
  },
  {
   "cell_type": "markdown",
   "id": "201dea1a",
   "metadata": {
    "papermill": {
     "duration": 0.00914,
     "end_time": "2024-09-21T08:45:20.339038",
     "exception": false,
     "start_time": "2024-09-21T08:45:20.329898",
     "status": "completed"
    },
    "tags": []
   },
   "source": [
    "We cannot see all the Columns names in One Go , so if we Transpore this we can have a better Look !\n",
    "Lets try "
   ]
  },
  {
   "cell_type": "code",
   "execution_count": 3,
   "id": "857692b1",
   "metadata": {
    "execution": {
     "iopub.execute_input": "2024-09-21T08:45:20.360517Z",
     "iopub.status.busy": "2024-09-21T08:45:20.359825Z",
     "iopub.status.idle": "2024-09-21T08:45:20.374863Z",
     "shell.execute_reply": "2024-09-21T08:45:20.373884Z"
    },
    "papermill": {
     "duration": 0.02815,
     "end_time": "2024-09-21T08:45:20.376934",
     "exception": false,
     "start_time": "2024-09-21T08:45:20.348784",
     "status": "completed"
    },
    "tags": []
   },
   "outputs": [
    {
     "data": {
      "text/html": [
       "<div>\n",
       "<style scoped>\n",
       "    .dataframe tbody tr th:only-of-type {\n",
       "        vertical-align: middle;\n",
       "    }\n",
       "\n",
       "    .dataframe tbody tr th {\n",
       "        vertical-align: top;\n",
       "    }\n",
       "\n",
       "    .dataframe thead th {\n",
       "        text-align: right;\n",
       "    }\n",
       "</style>\n",
       "<table border=\"1\" class=\"dataframe\">\n",
       "  <thead>\n",
       "    <tr style=\"text-align: right;\">\n",
       "      <th></th>\n",
       "      <th>0</th>\n",
       "      <th>1</th>\n",
       "      <th>2</th>\n",
       "      <th>3</th>\n",
       "      <th>4</th>\n",
       "    </tr>\n",
       "  </thead>\n",
       "  <tbody>\n",
       "    <tr>\n",
       "      <th>App Name</th>\n",
       "      <td>Gakondo</td>\n",
       "      <td>Ampere Battery Info</td>\n",
       "      <td>Vibook</td>\n",
       "      <td>Smart City Trichy Public Service Vehicles 17UC...</td>\n",
       "      <td>GROW.me</td>\n",
       "    </tr>\n",
       "    <tr>\n",
       "      <th>App Id</th>\n",
       "      <td>com.ishakwe.gakondo</td>\n",
       "      <td>com.webserveis.batteryinfo</td>\n",
       "      <td>com.doantiepvien.crm</td>\n",
       "      <td>cst.stJoseph.ug17ucs548</td>\n",
       "      <td>com.horodyski.grower</td>\n",
       "    </tr>\n",
       "    <tr>\n",
       "      <th>Category</th>\n",
       "      <td>Adventure</td>\n",
       "      <td>Tools</td>\n",
       "      <td>Productivity</td>\n",
       "      <td>Communication</td>\n",
       "      <td>Tools</td>\n",
       "    </tr>\n",
       "    <tr>\n",
       "      <th>Rating</th>\n",
       "      <td>0.0</td>\n",
       "      <td>4.4</td>\n",
       "      <td>0.0</td>\n",
       "      <td>5.0</td>\n",
       "      <td>0.0</td>\n",
       "    </tr>\n",
       "    <tr>\n",
       "      <th>Rating Count</th>\n",
       "      <td>0.0</td>\n",
       "      <td>64.0</td>\n",
       "      <td>0.0</td>\n",
       "      <td>5.0</td>\n",
       "      <td>0.0</td>\n",
       "    </tr>\n",
       "    <tr>\n",
       "      <th>Installs</th>\n",
       "      <td>10+</td>\n",
       "      <td>5,000+</td>\n",
       "      <td>50+</td>\n",
       "      <td>10+</td>\n",
       "      <td>100+</td>\n",
       "    </tr>\n",
       "    <tr>\n",
       "      <th>Minimum Installs</th>\n",
       "      <td>10.0</td>\n",
       "      <td>5000.0</td>\n",
       "      <td>50.0</td>\n",
       "      <td>10.0</td>\n",
       "      <td>100.0</td>\n",
       "    </tr>\n",
       "    <tr>\n",
       "      <th>Maximum Installs</th>\n",
       "      <td>15</td>\n",
       "      <td>7662</td>\n",
       "      <td>58</td>\n",
       "      <td>19</td>\n",
       "      <td>478</td>\n",
       "    </tr>\n",
       "    <tr>\n",
       "      <th>Free</th>\n",
       "      <td>True</td>\n",
       "      <td>True</td>\n",
       "      <td>True</td>\n",
       "      <td>True</td>\n",
       "      <td>True</td>\n",
       "    </tr>\n",
       "    <tr>\n",
       "      <th>Price</th>\n",
       "      <td>0.0</td>\n",
       "      <td>0.0</td>\n",
       "      <td>0.0</td>\n",
       "      <td>0.0</td>\n",
       "      <td>0.0</td>\n",
       "    </tr>\n",
       "    <tr>\n",
       "      <th>Currency</th>\n",
       "      <td>USD</td>\n",
       "      <td>USD</td>\n",
       "      <td>USD</td>\n",
       "      <td>USD</td>\n",
       "      <td>USD</td>\n",
       "    </tr>\n",
       "    <tr>\n",
       "      <th>Size</th>\n",
       "      <td>10M</td>\n",
       "      <td>2.9M</td>\n",
       "      <td>3.7M</td>\n",
       "      <td>1.8M</td>\n",
       "      <td>6.2M</td>\n",
       "    </tr>\n",
       "    <tr>\n",
       "      <th>Minimum Android</th>\n",
       "      <td>7.1 and up</td>\n",
       "      <td>5.0 and up</td>\n",
       "      <td>4.0.3 and up</td>\n",
       "      <td>4.0.3 and up</td>\n",
       "      <td>4.1 and up</td>\n",
       "    </tr>\n",
       "    <tr>\n",
       "      <th>Developer Id</th>\n",
       "      <td>Jean Confident Irénée NIYIZIBYOSE</td>\n",
       "      <td>Webserveis</td>\n",
       "      <td>Cabin Crew</td>\n",
       "      <td>Climate Smart Tech2</td>\n",
       "      <td>Rafal Milek-Horodyski</td>\n",
       "    </tr>\n",
       "    <tr>\n",
       "      <th>Developer Website</th>\n",
       "      <td>https://beniyizibyose.tk/#/</td>\n",
       "      <td>https://webserveis.netlify.app/</td>\n",
       "      <td>NaN</td>\n",
       "      <td>http://www.climatesmarttech.com/</td>\n",
       "      <td>http://www.horodyski.com.pl</td>\n",
       "    </tr>\n",
       "    <tr>\n",
       "      <th>Developer Email</th>\n",
       "      <td>jean21101999@gmail.com</td>\n",
       "      <td>webserveis@gmail.com</td>\n",
       "      <td>vnacrewit@gmail.com</td>\n",
       "      <td>climatesmarttech2@gmail.com</td>\n",
       "      <td>rmilekhorodyski@gmail.com</td>\n",
       "    </tr>\n",
       "    <tr>\n",
       "      <th>Released</th>\n",
       "      <td>Feb 26, 2020</td>\n",
       "      <td>May 21, 2020</td>\n",
       "      <td>Aug 9, 2019</td>\n",
       "      <td>Sep 10, 2018</td>\n",
       "      <td>Feb 21, 2020</td>\n",
       "    </tr>\n",
       "    <tr>\n",
       "      <th>Last Updated</th>\n",
       "      <td>Feb 26, 2020</td>\n",
       "      <td>May 06, 2021</td>\n",
       "      <td>Aug 19, 2019</td>\n",
       "      <td>Oct 13, 2018</td>\n",
       "      <td>Nov 12, 2018</td>\n",
       "    </tr>\n",
       "    <tr>\n",
       "      <th>Content Rating</th>\n",
       "      <td>Everyone</td>\n",
       "      <td>Everyone</td>\n",
       "      <td>Everyone</td>\n",
       "      <td>Everyone</td>\n",
       "      <td>Everyone</td>\n",
       "    </tr>\n",
       "    <tr>\n",
       "      <th>Privacy Policy</th>\n",
       "      <td>https://beniyizibyose.tk/projects/</td>\n",
       "      <td>https://dev4phones.wordpress.com/licencia-de-uso/</td>\n",
       "      <td>https://www.vietnamairlines.com/vn/en/terms-an...</td>\n",
       "      <td>NaN</td>\n",
       "      <td>http://www.horodyski.com.pl</td>\n",
       "    </tr>\n",
       "    <tr>\n",
       "      <th>Ad Supported</th>\n",
       "      <td>False</td>\n",
       "      <td>True</td>\n",
       "      <td>False</td>\n",
       "      <td>True</td>\n",
       "      <td>False</td>\n",
       "    </tr>\n",
       "    <tr>\n",
       "      <th>In App Purchases</th>\n",
       "      <td>False</td>\n",
       "      <td>False</td>\n",
       "      <td>False</td>\n",
       "      <td>False</td>\n",
       "      <td>False</td>\n",
       "    </tr>\n",
       "    <tr>\n",
       "      <th>Editors Choice</th>\n",
       "      <td>False</td>\n",
       "      <td>False</td>\n",
       "      <td>False</td>\n",
       "      <td>False</td>\n",
       "      <td>False</td>\n",
       "    </tr>\n",
       "    <tr>\n",
       "      <th>Scraped Time</th>\n",
       "      <td>2021-06-15 20:19:35</td>\n",
       "      <td>2021-06-15 20:19:35</td>\n",
       "      <td>2021-06-15 20:19:35</td>\n",
       "      <td>2021-06-15 20:19:35</td>\n",
       "      <td>2021-06-15 20:19:35</td>\n",
       "    </tr>\n",
       "  </tbody>\n",
       "</table>\n",
       "</div>"
      ],
      "text/plain": [
       "                                                    0  \\\n",
       "App Name                                      Gakondo   \n",
       "App Id                            com.ishakwe.gakondo   \n",
       "Category                                    Adventure   \n",
       "Rating                                            0.0   \n",
       "Rating Count                                      0.0   \n",
       "Installs                                          10+   \n",
       "Minimum Installs                                 10.0   \n",
       "Maximum Installs                                   15   \n",
       "Free                                             True   \n",
       "Price                                             0.0   \n",
       "Currency                                          USD   \n",
       "Size                                              10M   \n",
       "Minimum Android                            7.1 and up   \n",
       "Developer Id        Jean Confident Irénée NIYIZIBYOSE   \n",
       "Developer Website         https://beniyizibyose.tk/#/   \n",
       "Developer Email                jean21101999@gmail.com   \n",
       "Released                                 Feb 26, 2020   \n",
       "Last Updated                             Feb 26, 2020   \n",
       "Content Rating                               Everyone   \n",
       "Privacy Policy     https://beniyizibyose.tk/projects/   \n",
       "Ad Supported                                    False   \n",
       "In App Purchases                                False   \n",
       "Editors Choice                                  False   \n",
       "Scraped Time                      2021-06-15 20:19:35   \n",
       "\n",
       "                                                                   1  \\\n",
       "App Name                                         Ampere Battery Info   \n",
       "App Id                                    com.webserveis.batteryinfo   \n",
       "Category                                                       Tools   \n",
       "Rating                                                           4.4   \n",
       "Rating Count                                                    64.0   \n",
       "Installs                                                      5,000+   \n",
       "Minimum Installs                                              5000.0   \n",
       "Maximum Installs                                                7662   \n",
       "Free                                                            True   \n",
       "Price                                                            0.0   \n",
       "Currency                                                         USD   \n",
       "Size                                                            2.9M   \n",
       "Minimum Android                                           5.0 and up   \n",
       "Developer Id                                              Webserveis   \n",
       "Developer Website                    https://webserveis.netlify.app/   \n",
       "Developer Email                                 webserveis@gmail.com   \n",
       "Released                                                May 21, 2020   \n",
       "Last Updated                                            May 06, 2021   \n",
       "Content Rating                                              Everyone   \n",
       "Privacy Policy     https://dev4phones.wordpress.com/licencia-de-uso/   \n",
       "Ad Supported                                                    True   \n",
       "In App Purchases                                               False   \n",
       "Editors Choice                                                 False   \n",
       "Scraped Time                                     2021-06-15 20:19:35   \n",
       "\n",
       "                                                                   2  \\\n",
       "App Name                                                      Vibook   \n",
       "App Id                                          com.doantiepvien.crm   \n",
       "Category                                                Productivity   \n",
       "Rating                                                           0.0   \n",
       "Rating Count                                                     0.0   \n",
       "Installs                                                         50+   \n",
       "Minimum Installs                                                50.0   \n",
       "Maximum Installs                                                  58   \n",
       "Free                                                            True   \n",
       "Price                                                            0.0   \n",
       "Currency                                                         USD   \n",
       "Size                                                            3.7M   \n",
       "Minimum Android                                         4.0.3 and up   \n",
       "Developer Id                                              Cabin Crew   \n",
       "Developer Website                                                NaN   \n",
       "Developer Email                                  vnacrewit@gmail.com   \n",
       "Released                                                 Aug 9, 2019   \n",
       "Last Updated                                            Aug 19, 2019   \n",
       "Content Rating                                              Everyone   \n",
       "Privacy Policy     https://www.vietnamairlines.com/vn/en/terms-an...   \n",
       "Ad Supported                                                   False   \n",
       "In App Purchases                                               False   \n",
       "Editors Choice                                                 False   \n",
       "Scraped Time                                     2021-06-15 20:19:35   \n",
       "\n",
       "                                                                   3  \\\n",
       "App Name           Smart City Trichy Public Service Vehicles 17UC...   \n",
       "App Id                                       cst.stJoseph.ug17ucs548   \n",
       "Category                                               Communication   \n",
       "Rating                                                           5.0   \n",
       "Rating Count                                                     5.0   \n",
       "Installs                                                         10+   \n",
       "Minimum Installs                                                10.0   \n",
       "Maximum Installs                                                  19   \n",
       "Free                                                            True   \n",
       "Price                                                            0.0   \n",
       "Currency                                                         USD   \n",
       "Size                                                            1.8M   \n",
       "Minimum Android                                         4.0.3 and up   \n",
       "Developer Id                                     Climate Smart Tech2   \n",
       "Developer Website                   http://www.climatesmarttech.com/   \n",
       "Developer Email                          climatesmarttech2@gmail.com   \n",
       "Released                                                Sep 10, 2018   \n",
       "Last Updated                                            Oct 13, 2018   \n",
       "Content Rating                                              Everyone   \n",
       "Privacy Policy                                                   NaN   \n",
       "Ad Supported                                                    True   \n",
       "In App Purchases                                               False   \n",
       "Editors Choice                                                 False   \n",
       "Scraped Time                                     2021-06-15 20:19:35   \n",
       "\n",
       "                                             4  \n",
       "App Name                               GROW.me  \n",
       "App Id                    com.horodyski.grower  \n",
       "Category                                 Tools  \n",
       "Rating                                     0.0  \n",
       "Rating Count                               0.0  \n",
       "Installs                                  100+  \n",
       "Minimum Installs                         100.0  \n",
       "Maximum Installs                           478  \n",
       "Free                                      True  \n",
       "Price                                      0.0  \n",
       "Currency                                   USD  \n",
       "Size                                      6.2M  \n",
       "Minimum Android                     4.1 and up  \n",
       "Developer Id             Rafal Milek-Horodyski  \n",
       "Developer Website  http://www.horodyski.com.pl  \n",
       "Developer Email      rmilekhorodyski@gmail.com  \n",
       "Released                          Feb 21, 2020  \n",
       "Last Updated                      Nov 12, 2018  \n",
       "Content Rating                        Everyone  \n",
       "Privacy Policy     http://www.horodyski.com.pl  \n",
       "Ad Supported                             False  \n",
       "In App Purchases                         False  \n",
       "Editors Choice                           False  \n",
       "Scraped Time               2021-06-15 20:19:35  "
      ]
     },
     "execution_count": 3,
     "metadata": {},
     "output_type": "execute_result"
    }
   ],
   "source": [
    "df.head().T     # T Means Transpose Reshuffle Columns and rows location"
   ]
  },
  {
   "cell_type": "code",
   "execution_count": 4,
   "id": "65276c67",
   "metadata": {
    "execution": {
     "iopub.execute_input": "2024-09-21T08:45:20.399372Z",
     "iopub.status.busy": "2024-09-21T08:45:20.398461Z",
     "iopub.status.idle": "2024-09-21T08:45:20.417019Z",
     "shell.execute_reply": "2024-09-21T08:45:20.416014Z"
    },
    "papermill": {
     "duration": 0.032164,
     "end_time": "2024-09-21T08:45:20.419477",
     "exception": false,
     "start_time": "2024-09-21T08:45:20.387313",
     "status": "completed"
    },
    "tags": []
   },
   "outputs": [
    {
     "name": "stdout",
     "output_type": "stream",
     "text": [
      "<class 'pandas.core.frame.DataFrame'>\n",
      "RangeIndex: 2312944 entries, 0 to 2312943\n",
      "Data columns (total 24 columns):\n",
      " #   Column             Dtype  \n",
      "---  ------             -----  \n",
      " 0   App Name           object \n",
      " 1   App Id             object \n",
      " 2   Category           object \n",
      " 3   Rating             float64\n",
      " 4   Rating Count       float64\n",
      " 5   Installs           object \n",
      " 6   Minimum Installs   float64\n",
      " 7   Maximum Installs   int64  \n",
      " 8   Free               bool   \n",
      " 9   Price              float64\n",
      " 10  Currency           object \n",
      " 11  Size               object \n",
      " 12  Minimum Android    object \n",
      " 13  Developer Id       object \n",
      " 14  Developer Website  object \n",
      " 15  Developer Email    object \n",
      " 16  Released           object \n",
      " 17  Last Updated       object \n",
      " 18  Content Rating     object \n",
      " 19  Privacy Policy     object \n",
      " 20  Ad Supported       bool   \n",
      " 21  In App Purchases   bool   \n",
      " 22  Editors Choice     bool   \n",
      " 23  Scraped Time       object \n",
      "dtypes: bool(4), float64(4), int64(1), object(15)\n",
      "memory usage: 361.8+ MB\n"
     ]
    }
   ],
   "source": [
    "df.info()"
   ]
  },
  {
   "cell_type": "markdown",
   "id": "a5421164",
   "metadata": {
    "papermill": {
     "duration": 0.010628,
     "end_time": "2024-09-21T08:45:20.440659",
     "exception": false,
     "start_time": "2024-09-21T08:45:20.430031",
     "status": "completed"
    },
    "tags": []
   },
   "source": [
    "## Observation\n",
    "in the above information, we get that some columns are numbers but due to anamolies python allocate that in object , For Instance columns 'Size' is 10 Megabyte But due to M attached it becomes an object so we need to fix this."
   ]
  },
  {
   "cell_type": "markdown",
   "id": "7496dde6",
   "metadata": {
    "papermill": {
     "duration": 0.009853,
     "end_time": "2024-09-21T08:45:20.460789",
     "exception": false,
     "start_time": "2024-09-21T08:45:20.450936",
     "status": "completed"
    },
    "tags": []
   },
   "source": [
    "## 🔍 Step 3: Data Preparation\n",
    "## 3.1 Check for Missing Values\n",
    "Before proceeding, we must ensure that our dataset is clean and ready for analysis."
   ]
  },
  {
   "cell_type": "code",
   "execution_count": 5,
   "id": "8f2b5730",
   "metadata": {
    "execution": {
     "iopub.execute_input": "2024-09-21T08:45:20.483436Z",
     "iopub.status.busy": "2024-09-21T08:45:20.482605Z",
     "iopub.status.idle": "2024-09-21T08:45:22.099711Z",
     "shell.execute_reply": "2024-09-21T08:45:22.098747Z"
    },
    "papermill": {
     "duration": 1.63067,
     "end_time": "2024-09-21T08:45:22.101824",
     "exception": false,
     "start_time": "2024-09-21T08:45:20.471154",
     "status": "completed"
    },
    "tags": []
   },
   "outputs": [
    {
     "data": {
      "text/plain": [
       "Developer Website    760835\n",
       "Privacy Policy       420953\n",
       "Released              71053\n",
       "Rating                22883\n",
       "Rating Count          22883\n",
       "Minimum Android        6530\n",
       "Size                    196\n",
       "Currency                135\n",
       "Installs                107\n",
       "Minimum Installs        107\n",
       "Developer Id             33\n",
       "Developer Email          31\n",
       "App Name                  5\n",
       "dtype: int64"
      ]
     },
     "execution_count": 5,
     "metadata": {},
     "output_type": "execute_result"
    }
   ],
   "source": [
    "# Check for missing values\n",
    "missing_values = df.isnull().sum().sort_values(ascending=False)\n",
    "missing_values[missing_values > 0]             # Its Gives Us Only Missing Values Greater than 0"
   ]
  },
  {
   "cell_type": "markdown",
   "id": "e25af9da",
   "metadata": {
    "papermill": {
     "duration": 0.010052,
     "end_time": "2024-09-21T08:45:22.122290",
     "exception": false,
     "start_time": "2024-09-21T08:45:22.112238",
     "status": "completed"
    },
    "tags": []
   },
   "source": [
    "## 🛠️ Handling Missing Values\n",
    "\n",
    "### Overview\n",
    "Before we proceed with our analysis, it's essential to address the missing values in our dataset. Below is a summary of the missing values for each column:\n",
    "\n",
    "| Column                | Missing Values |\n",
    "|-----------------------|----------------|\n",
    "| Developer Website     | 760,835        |\n",
    "| Privacy Policy        | 420,953        |\n",
    "| Released              | 71,053         |\n",
    "| Rating                | 22,883         |\n",
    "| Rating Count          | 22,883         |\n",
    "| Minimum Android       | 6,530          |\n",
    "| Size                  | 196            |\n",
    "| Currency              | 135            |\n",
    "| Installs              | 107            |\n",
    "| Minimum Installs      | 107            |\n",
    "| Developer Id          | 33             |\n",
    "| Developer Email       | 31             |\n",
    "| App Name              | 5              |\n",
    "\n",
    "### Analysis of Missing Values\n",
    "1. **Developer Website (760,835 missing)**: This field may not be critical for our current analysis, so we can safely drop it.\n",
    "2. **Privacy Policy (420,953 missing)**: Similar to the Developer Website, this is not essential for our analysis and can be dropped.\n",
    "3. **Released (71,053 missing)**: This column might provide insights into app trends over time. We can either fill missing values with a placeholder or drop the rows.\n",
    "4. **Rating and Rating Count (22,883 missing)**: Ratings are crucial for our analysis. We might want to drop these rows.\n",
    "5. **Minimum Android (6,530 missing)**: This could be important for understanding app compatibility. We can drop these rows as well.\n",
    "6. **Size (196 missing)**: This information is useful but not critical. We can fill missing values with the median size of the apps.\n",
    "7. **Currency (135 missing)**: This can also be dropped since it may not significantly affect our analysis.\n",
    "8. **Installs and Minimum Installs (107 missing)**: These fields are important for our analysis, so we should drop these rows.\n",
    "9. **Developer Id (33 missing)** and **Developer Email (31 missing)**: These are also not critical for our analysis and can be dropped.\n",
    "10. **App Name (5 missing)**: We should consider dropping these rows since the app name is key to our analysis.\n",
    "\n",
    "### Steps to Handle Missing Values\n"
   ]
  },
  {
   "cell_type": "code",
   "execution_count": 6,
   "id": "f3a07cab",
   "metadata": {
    "execution": {
     "iopub.execute_input": "2024-09-21T08:45:22.144560Z",
     "iopub.status.busy": "2024-09-21T08:45:22.144138Z",
     "iopub.status.idle": "2024-09-21T08:45:22.149331Z",
     "shell.execute_reply": "2024-09-21T08:45:22.148468Z"
    },
    "papermill": {
     "duration": 0.018599,
     "end_time": "2024-09-21T08:45:22.151290",
     "exception": false,
     "start_time": "2024-09-21T08:45:22.132691",
     "status": "completed"
    },
    "tags": []
   },
   "outputs": [],
   "source": [
    "pd.set_option('display.max_columns',None)      # shows the maximum columns in output\n",
    "pd.set_option('display.max_rows',None)         # shows the maximum rows in output"
   ]
  },
  {
   "cell_type": "code",
   "execution_count": 7,
   "id": "faa5b271",
   "metadata": {
    "execution": {
     "iopub.execute_input": "2024-09-21T08:45:22.173601Z",
     "iopub.status.busy": "2024-09-21T08:45:22.172935Z",
     "iopub.status.idle": "2024-09-21T08:45:22.493865Z",
     "shell.execute_reply": "2024-09-21T08:45:22.492930Z"
    },
    "papermill": {
     "duration": 0.334696,
     "end_time": "2024-09-21T08:45:22.496355",
     "exception": false,
     "start_time": "2024-09-21T08:45:22.161659",
     "status": "completed"
    },
    "tags": []
   },
   "outputs": [],
   "source": [
    "# Drop columns that are not essential for our analysis\n",
    "columns_to_drop = ['Developer Website', 'Privacy Policy', 'Currency', 'Developer Id', 'Developer Email']\n",
    "df.drop(columns=columns_to_drop, inplace=True)"
   ]
  },
  {
   "cell_type": "code",
   "execution_count": 8,
   "id": "770d79f6",
   "metadata": {
    "execution": {
     "iopub.execute_input": "2024-09-21T08:45:22.518809Z",
     "iopub.status.busy": "2024-09-21T08:45:22.518129Z",
     "iopub.status.idle": "2024-09-21T08:45:22.539206Z",
     "shell.execute_reply": "2024-09-21T08:45:22.538237Z"
    },
    "papermill": {
     "duration": 0.034556,
     "end_time": "2024-09-21T08:45:22.541405",
     "exception": false,
     "start_time": "2024-09-21T08:45:22.506849",
     "status": "completed"
    },
    "tags": []
   },
   "outputs": [
    {
     "data": {
      "text/html": [
       "<div>\n",
       "<style scoped>\n",
       "    .dataframe tbody tr th:only-of-type {\n",
       "        vertical-align: middle;\n",
       "    }\n",
       "\n",
       "    .dataframe tbody tr th {\n",
       "        vertical-align: top;\n",
       "    }\n",
       "\n",
       "    .dataframe thead th {\n",
       "        text-align: right;\n",
       "    }\n",
       "</style>\n",
       "<table border=\"1\" class=\"dataframe\">\n",
       "  <thead>\n",
       "    <tr style=\"text-align: right;\">\n",
       "      <th></th>\n",
       "      <th>App Name</th>\n",
       "      <th>App Id</th>\n",
       "      <th>Category</th>\n",
       "      <th>Rating</th>\n",
       "      <th>Rating Count</th>\n",
       "      <th>Installs</th>\n",
       "      <th>Minimum Installs</th>\n",
       "      <th>Maximum Installs</th>\n",
       "      <th>Free</th>\n",
       "      <th>Price</th>\n",
       "      <th>Size</th>\n",
       "      <th>Minimum Android</th>\n",
       "      <th>Released</th>\n",
       "      <th>Last Updated</th>\n",
       "      <th>Content Rating</th>\n",
       "      <th>Ad Supported</th>\n",
       "      <th>In App Purchases</th>\n",
       "      <th>Editors Choice</th>\n",
       "      <th>Scraped Time</th>\n",
       "    </tr>\n",
       "  </thead>\n",
       "  <tbody>\n",
       "    <tr>\n",
       "      <th>0</th>\n",
       "      <td>Gakondo</td>\n",
       "      <td>com.ishakwe.gakondo</td>\n",
       "      <td>Adventure</td>\n",
       "      <td>0.0</td>\n",
       "      <td>0.0</td>\n",
       "      <td>10+</td>\n",
       "      <td>10.0</td>\n",
       "      <td>15</td>\n",
       "      <td>True</td>\n",
       "      <td>0.0</td>\n",
       "      <td>10M</td>\n",
       "      <td>7.1 and up</td>\n",
       "      <td>Feb 26, 2020</td>\n",
       "      <td>Feb 26, 2020</td>\n",
       "      <td>Everyone</td>\n",
       "      <td>False</td>\n",
       "      <td>False</td>\n",
       "      <td>False</td>\n",
       "      <td>2021-06-15 20:19:35</td>\n",
       "    </tr>\n",
       "    <tr>\n",
       "      <th>1</th>\n",
       "      <td>Ampere Battery Info</td>\n",
       "      <td>com.webserveis.batteryinfo</td>\n",
       "      <td>Tools</td>\n",
       "      <td>4.4</td>\n",
       "      <td>64.0</td>\n",
       "      <td>5,000+</td>\n",
       "      <td>5000.0</td>\n",
       "      <td>7662</td>\n",
       "      <td>True</td>\n",
       "      <td>0.0</td>\n",
       "      <td>2.9M</td>\n",
       "      <td>5.0 and up</td>\n",
       "      <td>May 21, 2020</td>\n",
       "      <td>May 06, 2021</td>\n",
       "      <td>Everyone</td>\n",
       "      <td>True</td>\n",
       "      <td>False</td>\n",
       "      <td>False</td>\n",
       "      <td>2021-06-15 20:19:35</td>\n",
       "    </tr>\n",
       "    <tr>\n",
       "      <th>2</th>\n",
       "      <td>Vibook</td>\n",
       "      <td>com.doantiepvien.crm</td>\n",
       "      <td>Productivity</td>\n",
       "      <td>0.0</td>\n",
       "      <td>0.0</td>\n",
       "      <td>50+</td>\n",
       "      <td>50.0</td>\n",
       "      <td>58</td>\n",
       "      <td>True</td>\n",
       "      <td>0.0</td>\n",
       "      <td>3.7M</td>\n",
       "      <td>4.0.3 and up</td>\n",
       "      <td>Aug 9, 2019</td>\n",
       "      <td>Aug 19, 2019</td>\n",
       "      <td>Everyone</td>\n",
       "      <td>False</td>\n",
       "      <td>False</td>\n",
       "      <td>False</td>\n",
       "      <td>2021-06-15 20:19:35</td>\n",
       "    </tr>\n",
       "    <tr>\n",
       "      <th>3</th>\n",
       "      <td>Smart City Trichy Public Service Vehicles 17UC...</td>\n",
       "      <td>cst.stJoseph.ug17ucs548</td>\n",
       "      <td>Communication</td>\n",
       "      <td>5.0</td>\n",
       "      <td>5.0</td>\n",
       "      <td>10+</td>\n",
       "      <td>10.0</td>\n",
       "      <td>19</td>\n",
       "      <td>True</td>\n",
       "      <td>0.0</td>\n",
       "      <td>1.8M</td>\n",
       "      <td>4.0.3 and up</td>\n",
       "      <td>Sep 10, 2018</td>\n",
       "      <td>Oct 13, 2018</td>\n",
       "      <td>Everyone</td>\n",
       "      <td>True</td>\n",
       "      <td>False</td>\n",
       "      <td>False</td>\n",
       "      <td>2021-06-15 20:19:35</td>\n",
       "    </tr>\n",
       "    <tr>\n",
       "      <th>4</th>\n",
       "      <td>GROW.me</td>\n",
       "      <td>com.horodyski.grower</td>\n",
       "      <td>Tools</td>\n",
       "      <td>0.0</td>\n",
       "      <td>0.0</td>\n",
       "      <td>100+</td>\n",
       "      <td>100.0</td>\n",
       "      <td>478</td>\n",
       "      <td>True</td>\n",
       "      <td>0.0</td>\n",
       "      <td>6.2M</td>\n",
       "      <td>4.1 and up</td>\n",
       "      <td>Feb 21, 2020</td>\n",
       "      <td>Nov 12, 2018</td>\n",
       "      <td>Everyone</td>\n",
       "      <td>False</td>\n",
       "      <td>False</td>\n",
       "      <td>False</td>\n",
       "      <td>2021-06-15 20:19:35</td>\n",
       "    </tr>\n",
       "  </tbody>\n",
       "</table>\n",
       "</div>"
      ],
      "text/plain": [
       "                                            App Name  \\\n",
       "0                                            Gakondo   \n",
       "1                                Ampere Battery Info   \n",
       "2                                             Vibook   \n",
       "3  Smart City Trichy Public Service Vehicles 17UC...   \n",
       "4                                            GROW.me   \n",
       "\n",
       "                       App Id       Category  Rating  Rating Count Installs  \\\n",
       "0         com.ishakwe.gakondo      Adventure     0.0           0.0      10+   \n",
       "1  com.webserveis.batteryinfo          Tools     4.4          64.0   5,000+   \n",
       "2        com.doantiepvien.crm   Productivity     0.0           0.0      50+   \n",
       "3     cst.stJoseph.ug17ucs548  Communication     5.0           5.0      10+   \n",
       "4        com.horodyski.grower          Tools     0.0           0.0     100+   \n",
       "\n",
       "   Minimum Installs  Maximum Installs  Free  Price  Size Minimum Android  \\\n",
       "0              10.0                15  True    0.0   10M      7.1 and up   \n",
       "1            5000.0              7662  True    0.0  2.9M      5.0 and up   \n",
       "2              50.0                58  True    0.0  3.7M    4.0.3 and up   \n",
       "3              10.0                19  True    0.0  1.8M    4.0.3 and up   \n",
       "4             100.0               478  True    0.0  6.2M      4.1 and up   \n",
       "\n",
       "       Released  Last Updated Content Rating  Ad Supported  In App Purchases  \\\n",
       "0  Feb 26, 2020  Feb 26, 2020       Everyone         False             False   \n",
       "1  May 21, 2020  May 06, 2021       Everyone          True             False   \n",
       "2   Aug 9, 2019  Aug 19, 2019       Everyone         False             False   \n",
       "3  Sep 10, 2018  Oct 13, 2018       Everyone          True             False   \n",
       "4  Feb 21, 2020  Nov 12, 2018       Everyone         False             False   \n",
       "\n",
       "   Editors Choice         Scraped Time  \n",
       "0           False  2021-06-15 20:19:35  \n",
       "1           False  2021-06-15 20:19:35  \n",
       "2           False  2021-06-15 20:19:35  \n",
       "3           False  2021-06-15 20:19:35  \n",
       "4           False  2021-06-15 20:19:35  "
      ]
     },
     "execution_count": 8,
     "metadata": {},
     "output_type": "execute_result"
    }
   ],
   "source": [
    "df.head()           # to verify columns are deleted."
   ]
  },
  {
   "cell_type": "code",
   "execution_count": 9,
   "id": "0ba39fdb",
   "metadata": {
    "execution": {
     "iopub.execute_input": "2024-09-21T08:45:22.564744Z",
     "iopub.status.busy": "2024-09-21T08:45:22.563810Z",
     "iopub.status.idle": "2024-09-21T08:45:23.144144Z",
     "shell.execute_reply": "2024-09-21T08:45:23.143269Z"
    },
    "papermill": {
     "duration": 0.59438,
     "end_time": "2024-09-21T08:45:23.146613",
     "exception": false,
     "start_time": "2024-09-21T08:45:22.552233",
     "status": "completed"
    },
    "tags": []
   },
   "outputs": [],
   "source": [
    "# Drop rows with missing values in critical columns\n",
    "df.dropna(subset=['Rating', 'Rating Count', 'Installs', 'Minimum Installs'], inplace=True)"
   ]
  },
  {
   "cell_type": "code",
   "execution_count": 10,
   "id": "90c44fc8",
   "metadata": {
    "execution": {
     "iopub.execute_input": "2024-09-21T08:45:23.170280Z",
     "iopub.status.busy": "2024-09-21T08:45:23.169610Z",
     "iopub.status.idle": "2024-09-21T08:45:24.311949Z",
     "shell.execute_reply": "2024-09-21T08:45:24.310944Z"
    },
    "papermill": {
     "duration": 1.157086,
     "end_time": "2024-09-21T08:45:24.314654",
     "exception": false,
     "start_time": "2024-09-21T08:45:23.157568",
     "status": "completed"
    },
    "tags": []
   },
   "outputs": [
    {
     "data": {
      "text/plain": [
       "Released           48378\n",
       "Minimum Android     6526\n",
       "App Name               5\n",
       "dtype: int64"
      ]
     },
     "execution_count": 10,
     "metadata": {},
     "output_type": "execute_result"
    }
   ],
   "source": [
    "missing_values = df.isnull().sum().sort_values(ascending=False)\n",
    "missing_values[missing_values > 0]         "
   ]
  },
  {
   "cell_type": "markdown",
   "id": "90c37a60",
   "metadata": {
    "papermill": {
     "duration": 0.010609,
     "end_time": "2024-09-21T08:45:24.341776",
     "exception": false,
     "start_time": "2024-09-21T08:45:24.331167",
     "status": "completed"
    },
    "tags": []
   },
   "source": [
    "We are getting Null/Missing/Nan Values in only Three columns now lets handle them !"
   ]
  },
  {
   "cell_type": "code",
   "execution_count": 11,
   "id": "80d7bcd2",
   "metadata": {
    "execution": {
     "iopub.execute_input": "2024-09-21T08:45:24.365743Z",
     "iopub.status.busy": "2024-09-21T08:45:24.365320Z",
     "iopub.status.idle": "2024-09-21T08:45:24.545402Z",
     "shell.execute_reply": "2024-09-21T08:45:24.544389Z"
    },
    "papermill": {
     "duration": 0.195514,
     "end_time": "2024-09-21T08:45:24.548259",
     "exception": false,
     "start_time": "2024-09-21T08:45:24.352745",
     "status": "completed"
    },
    "tags": []
   },
   "outputs": [],
   "source": [
    "# Fill missing values for 'Released' with a placeholder (e.g., 'Unknown')\n",
    "df['Released'] = df['Released'].fillna('Unknown')"
   ]
  },
  {
   "cell_type": "code",
   "execution_count": 12,
   "id": "ce3ad30f",
   "metadata": {
    "execution": {
     "iopub.execute_input": "2024-09-21T08:45:24.578989Z",
     "iopub.status.busy": "2024-09-21T08:45:24.578037Z",
     "iopub.status.idle": "2024-09-21T08:45:25.654958Z",
     "shell.execute_reply": "2024-09-21T08:45:25.653966Z"
    },
    "papermill": {
     "duration": 1.091433,
     "end_time": "2024-09-21T08:45:25.657095",
     "exception": false,
     "start_time": "2024-09-21T08:45:24.565662",
     "status": "completed"
    },
    "tags": []
   },
   "outputs": [
    {
     "data": {
      "text/plain": [
       "Minimum Android    6526\n",
       "App Name              5\n",
       "dtype: int64"
      ]
     },
     "execution_count": 12,
     "metadata": {},
     "output_type": "execute_result"
    }
   ],
   "source": [
    "missing_values = df.isnull().sum().sort_values(ascending=False)\n",
    "missing_values[missing_values > 0]  "
   ]
  },
  {
   "cell_type": "code",
   "execution_count": 13,
   "id": "96f76a22",
   "metadata": {
    "execution": {
     "iopub.execute_input": "2024-09-21T08:45:25.681901Z",
     "iopub.status.busy": "2024-09-21T08:45:25.681496Z",
     "iopub.status.idle": "2024-09-21T08:45:27.021955Z",
     "shell.execute_reply": "2024-09-21T08:45:27.020861Z"
    },
    "papermill": {
     "duration": 1.355981,
     "end_time": "2024-09-21T08:45:27.024526",
     "exception": false,
     "start_time": "2024-09-21T08:45:25.668545",
     "status": "completed"
    },
    "tags": []
   },
   "outputs": [],
   "source": [
    "df.dropna(subset=['Minimum Android'], inplace=True)\n",
    "df.dropna(subset=['App Name'], inplace=True)"
   ]
  },
  {
   "cell_type": "code",
   "execution_count": 14,
   "id": "e69a352f",
   "metadata": {
    "execution": {
     "iopub.execute_input": "2024-09-21T08:45:27.048213Z",
     "iopub.status.busy": "2024-09-21T08:45:27.047814Z",
     "iopub.status.idle": "2024-09-21T08:45:28.113223Z",
     "shell.execute_reply": "2024-09-21T08:45:28.112227Z"
    },
    "papermill": {
     "duration": 1.079859,
     "end_time": "2024-09-21T08:45:28.115495",
     "exception": false,
     "start_time": "2024-09-21T08:45:27.035636",
     "status": "completed"
    },
    "tags": []
   },
   "outputs": [
    {
     "data": {
      "text/plain": [
       "App Name            0\n",
       "App Id              0\n",
       "Category            0\n",
       "Rating              0\n",
       "Rating Count        0\n",
       "Installs            0\n",
       "Minimum Installs    0\n",
       "Maximum Installs    0\n",
       "Free                0\n",
       "Price               0\n",
       "Size                0\n",
       "Minimum Android     0\n",
       "Released            0\n",
       "Last Updated        0\n",
       "Content Rating      0\n",
       "Ad Supported        0\n",
       "In App Purchases    0\n",
       "Editors Choice      0\n",
       "Scraped Time        0\n",
       "dtype: int64"
      ]
     },
     "execution_count": 14,
     "metadata": {},
     "output_type": "execute_result"
    }
   ],
   "source": [
    "df.isnull().sum()"
   ]
  },
  {
   "cell_type": "markdown",
   "id": "9f54eb8a",
   "metadata": {
    "papermill": {
     "duration": 0.010943,
     "end_time": "2024-09-21T08:45:28.137581",
     "exception": false,
     "start_time": "2024-09-21T08:45:28.126638",
     "status": "completed"
    },
    "tags": []
   },
   "source": [
    " # 🔍 3.2 Anomaly Detection and Correction in Google Play Store Dataset\n",
    "\n",
    "## Overview\n",
    "Anomalies in the dataset can skew our analysis and lead to incorrect conclusions. In this section, we will identify and correct anomalies and missing values in various columns of the **Google Play Store** dataset.\n",
    "\n",
    "## Steps to Check for Anomalies\n"
   ]
  },
  {
   "cell_type": "code",
   "execution_count": 15,
   "id": "1f60ac3d",
   "metadata": {
    "execution": {
     "iopub.execute_input": "2024-09-21T08:45:28.161316Z",
     "iopub.status.busy": "2024-09-21T08:45:28.160933Z",
     "iopub.status.idle": "2024-09-21T08:45:28.322153Z",
     "shell.execute_reply": "2024-09-21T08:45:28.321114Z"
    },
    "papermill": {
     "duration": 0.175997,
     "end_time": "2024-09-21T08:45:28.324646",
     "exception": false,
     "start_time": "2024-09-21T08:45:28.148649",
     "status": "completed"
    },
    "tags": []
   },
   "outputs": [
    {
     "name": "stdout",
     "output_type": "stream",
     "text": [
      "             Rating\n",
      "count  2.283530e+06\n",
      "mean   2.205110e+00\n",
      "std    2.106214e+00\n",
      "min    0.000000e+00\n",
      "25%    0.000000e+00\n",
      "50%    2.900000e+00\n",
      "75%    4.300000e+00\n",
      "max    5.000000e+00\n"
     ]
    }
   ],
   "source": [
    "# Summary statistics for numeric columns\n",
    "print(df[['Rating', 'Installs', 'Size']].describe())"
   ]
  },
  {
   "cell_type": "markdown",
   "id": "9793e3e0",
   "metadata": {
    "papermill": {
     "duration": 0.010987,
     "end_time": "2024-09-21T08:45:28.346912",
     "exception": false,
     "start_time": "2024-09-21T08:45:28.335925",
     "status": "completed"
    },
    "tags": []
   },
   "source": [
    "## Observations\n",
    "in this summary we are not getting the Installs and Size column that means it has some issue with the data formats or have some anamolies. Let check this out"
   ]
  },
  {
   "cell_type": "code",
   "execution_count": 16,
   "id": "323fe341",
   "metadata": {
    "execution": {
     "iopub.execute_input": "2024-09-21T08:45:28.371167Z",
     "iopub.status.busy": "2024-09-21T08:45:28.370199Z",
     "iopub.status.idle": "2024-09-21T08:45:28.561489Z",
     "shell.execute_reply": "2024-09-21T08:45:28.560498Z"
    },
    "papermill": {
     "duration": 0.205767,
     "end_time": "2024-09-21T08:45:28.563643",
     "exception": false,
     "start_time": "2024-09-21T08:45:28.357876",
     "status": "completed"
    },
    "tags": []
   },
   "outputs": [
    {
     "data": {
      "text/plain": [
       "Installs\n",
       "100+               438075\n",
       "1,000+             395187\n",
       "10+                292877\n",
       "10,000+            255235\n",
       "500+               187000\n",
       "50+                167742\n",
       "5,000+             142687\n",
       "100,000+           109684\n",
       "50,000+             74942\n",
       "5+                  71257\n",
       "1+                  62945\n",
       "1,000,000+          33505\n",
       "500,000+            26902\n",
       "0+                  11250\n",
       "5,000,000+           6577\n",
       "10,000,000+          6169\n",
       "50,000,000+           823\n",
       "100,000,000+          539\n",
       "500,000,000+           65\n",
       "1,000,000,000+         54\n",
       "5,000,000,000+         14\n",
       "10,000,000,000+         1\n",
       "Name: count, dtype: int64"
      ]
     },
     "execution_count": 16,
     "metadata": {},
     "output_type": "execute_result"
    }
   ],
   "source": [
    "df['Installs'].value_counts()"
   ]
  },
  {
   "cell_type": "code",
   "execution_count": 17,
   "id": "1ec9cacb",
   "metadata": {
    "execution": {
     "iopub.execute_input": "2024-09-21T08:45:28.588690Z",
     "iopub.status.busy": "2024-09-21T08:45:28.587956Z",
     "iopub.status.idle": "2024-09-21T08:45:28.742002Z",
     "shell.execute_reply": "2024-09-21T08:45:28.741008Z"
    },
    "papermill": {
     "duration": 0.168997,
     "end_time": "2024-09-21T08:45:28.744244",
     "exception": false,
     "start_time": "2024-09-21T08:45:28.575247",
     "status": "completed"
    },
    "tags": []
   },
   "outputs": [
    {
     "data": {
      "text/plain": [
       "array(['10M', '2.9M', '3.7M', ..., '405M', '3.2k', '512M'], dtype=object)"
      ]
     },
     "execution_count": 17,
     "metadata": {},
     "output_type": "execute_result"
    }
   ],
   "source": [
    "df['Size'].unique()"
   ]
  },
  {
   "cell_type": "markdown",
   "id": "2f144011",
   "metadata": {
    "papermill": {
     "duration": 0.011333,
     "end_time": "2024-09-21T08:45:28.767172",
     "exception": false,
     "start_time": "2024-09-21T08:45:28.755839",
     "status": "completed"
    },
    "tags": []
   },
   "source": [
    "# ⚠️ Anomaly Detection and Correction in Installs and Size Columns\n",
    "\n",
    "## Overview\n",
    "The **Installs** and **Size** columns in the dataset have several anomalies that need to be addressed for accurate analysis. Below we will examine the unique values in these columns and provide steps for correcting them.\n",
    "\n",
    "### Correction Steps\n",
    "To convert the **Installs** column to a numeric format, we need to remove the '+' sign and commas, and then convert the values to integers."
   ]
  },
  {
   "cell_type": "code",
   "execution_count": 18,
   "id": "fbea2fc1",
   "metadata": {
    "execution": {
     "iopub.execute_input": "2024-09-21T08:45:28.792594Z",
     "iopub.status.busy": "2024-09-21T08:45:28.791648Z",
     "iopub.status.idle": "2024-09-21T08:45:30.582392Z",
     "shell.execute_reply": "2024-09-21T08:45:30.581500Z"
    },
    "papermill": {
     "duration": 1.806171,
     "end_time": "2024-09-21T08:45:30.584991",
     "exception": false,
     "start_time": "2024-09-21T08:45:28.778820",
     "status": "completed"
    },
    "tags": []
   },
   "outputs": [],
   "source": [
    "df['Installs'] = df['Installs'].str.replace('+', '').str.replace(',', '').astype(int)"
   ]
  },
  {
   "cell_type": "markdown",
   "id": "863550aa",
   "metadata": {
    "papermill": {
     "duration": 0.011675,
     "end_time": "2024-09-21T08:45:30.608525",
     "exception": false,
     "start_time": "2024-09-21T08:45:30.596850",
     "status": "completed"
    },
    "tags": []
   },
   "source": [
    "To convert the Size column to a numeric format, we need to remove the ',','M','k','Varies with device' strings and commas, also we are multiplying with 1024 because we need to convert from Megabytes and kilobytes to bytes ,then convert the values to Float. we will use use function."
   ]
  },
  {
   "cell_type": "code",
   "execution_count": 19,
   "id": "5ea60352",
   "metadata": {
    "execution": {
     "iopub.execute_input": "2024-09-21T08:45:30.633263Z",
     "iopub.status.busy": "2024-09-21T08:45:30.632854Z",
     "iopub.status.idle": "2024-09-21T08:45:32.311911Z",
     "shell.execute_reply": "2024-09-21T08:45:32.311072Z"
    },
    "papermill": {
     "duration": 1.694293,
     "end_time": "2024-09-21T08:45:32.314282",
     "exception": false,
     "start_time": "2024-09-21T08:45:30.619989",
     "status": "completed"
    },
    "tags": []
   },
   "outputs": [],
   "source": [
    "# Function to convert 'Size' to numeric\n",
    "def convert_size(size):\n",
    "    if isinstance(size, str):\n",
    "        size = size.replace(',', '')  # Remove commas\n",
    "        if 'M' in size:\n",
    "            return float(size.replace('M', '').strip()) * 1024 * 1024 # (1 Mb =1024 kilobytes, and 1 kilobyte = 1024 bytes)\n",
    "        elif 'k' in size:\n",
    "            return float(size.replace('k', '').strip()) * 1024       #(1 kilobyte = 1024 bytes)\n",
    "        elif size == 'Varies with device':\n",
    "            return None  # Handle 'Varies with device' case\n",
    "        else:\n",
    "            return None  # Handle unexpected formats\n",
    "    return None  # Handle non-string cases\n",
    "\n",
    "# Apply the conversion function to the 'Size' column\n",
    "df['Size'] = df['Size'].apply(convert_size)"
   ]
  },
  {
   "cell_type": "markdown",
   "id": "6330628b",
   "metadata": {
    "papermill": {
     "duration": 0.011252,
     "end_time": "2024-09-21T08:45:32.337110",
     "exception": false,
     "start_time": "2024-09-21T08:45:32.325858",
     "status": "completed"
    },
    "tags": []
   },
   "source": [
    "Now, Lets run Statistic Summary Again"
   ]
  },
  {
   "cell_type": "code",
   "execution_count": 20,
   "id": "38cd81b5",
   "metadata": {
    "execution": {
     "iopub.execute_input": "2024-09-21T08:45:32.361399Z",
     "iopub.status.busy": "2024-09-21T08:45:32.360998Z",
     "iopub.status.idle": "2024-09-21T08:45:32.715023Z",
     "shell.execute_reply": "2024-09-21T08:45:32.713506Z"
    },
    "papermill": {
     "duration": 0.368881,
     "end_time": "2024-09-21T08:45:32.717302",
     "exception": false,
     "start_time": "2024-09-21T08:45:32.348421",
     "status": "completed"
    },
    "tags": []
   },
   "outputs": [
    {
     "name": "stdout",
     "output_type": "stream",
     "text": [
      "             Rating      Installs          Size\n",
      "count  2.283530e+06  2.283530e+06  2.230586e+06\n",
      "mean   2.205110e+00  1.846293e+05  2.010199e+07\n",
      "std    2.106214e+00  1.521233e+07  2.497988e+07\n",
      "min    0.000000e+00  0.000000e+00  3.276800e+03\n",
      "25%    0.000000e+00  5.000000e+01  5.138022e+06\n",
      "50%    2.900000e+00  5.000000e+02  1.048576e+07\n",
      "75%    4.300000e+00  5.000000e+03  2.621440e+07\n",
      "max    5.000000e+00  1.000000e+10  1.069548e+09\n"
     ]
    }
   ],
   "source": [
    "print(df[['Rating', 'Installs', 'Size']].describe())"
   ]
  },
  {
   "cell_type": "markdown",
   "id": "07f7d58f",
   "metadata": {
    "papermill": {
     "duration": 0.011184,
     "end_time": "2024-09-21T08:45:32.740133",
     "exception": false,
     "start_time": "2024-09-21T08:45:32.728949",
     "status": "completed"
    },
    "tags": []
   },
   "source": [
    "# ✅ Data Cleaning Complete: Missing Values Handled, Anamolies Handled.\n"
   ]
  },
  {
   "cell_type": "markdown",
   "id": "245edfca",
   "metadata": {
    "papermill": {
     "duration": 0.011091,
     "end_time": "2024-09-21T08:45:32.762529",
     "exception": false,
     "start_time": "2024-09-21T08:45:32.751438",
     "status": "completed"
    },
    "tags": []
   },
   "source": [
    "## 🌟 Step 4: Top 10 Most Downloaded Apps\n",
    "Analysis\n",
    "We will identify the top 10 most downloaded apps to understand which apps lead the market."
   ]
  },
  {
   "cell_type": "code",
   "execution_count": 21,
   "id": "773c6715",
   "metadata": {
    "execution": {
     "iopub.execute_input": "2024-09-21T08:45:32.787205Z",
     "iopub.status.busy": "2024-09-21T08:45:32.786816Z",
     "iopub.status.idle": "2024-09-21T08:45:34.001949Z",
     "shell.execute_reply": "2024-09-21T08:45:34.000995Z"
    },
    "papermill": {
     "duration": 1.230016,
     "end_time": "2024-09-21T08:45:34.004248",
     "exception": false,
     "start_time": "2024-09-21T08:45:32.774232",
     "status": "completed"
    },
    "tags": []
   },
   "outputs": [
    {
     "data": {
      "text/html": [
       "<div>\n",
       "<style scoped>\n",
       "    .dataframe tbody tr th:only-of-type {\n",
       "        vertical-align: middle;\n",
       "    }\n",
       "\n",
       "    .dataframe tbody tr th {\n",
       "        vertical-align: top;\n",
       "    }\n",
       "\n",
       "    .dataframe thead th {\n",
       "        text-align: right;\n",
       "    }\n",
       "</style>\n",
       "<table border=\"1\" class=\"dataframe\">\n",
       "  <thead>\n",
       "    <tr style=\"text-align: right;\">\n",
       "      <th></th>\n",
       "      <th>App Name</th>\n",
       "      <th>Installs</th>\n",
       "    </tr>\n",
       "  </thead>\n",
       "  <tbody>\n",
       "    <tr>\n",
       "      <th>2155096</th>\n",
       "      <td>Google Play services</td>\n",
       "      <td>10000000000</td>\n",
       "    </tr>\n",
       "    <tr>\n",
       "      <th>167781</th>\n",
       "      <td>Google TV (previously Play Movies &amp; TV)</td>\n",
       "      <td>5000000000</td>\n",
       "    </tr>\n",
       "    <tr>\n",
       "      <th>385470</th>\n",
       "      <td>WhatsApp Messenger</td>\n",
       "      <td>5000000000</td>\n",
       "    </tr>\n",
       "    <tr>\n",
       "      <th>881403</th>\n",
       "      <td>YouTube</td>\n",
       "      <td>5000000000</td>\n",
       "    </tr>\n",
       "    <tr>\n",
       "      <th>893676</th>\n",
       "      <td>Google Drive</td>\n",
       "      <td>5000000000</td>\n",
       "    </tr>\n",
       "    <tr>\n",
       "      <th>925338</th>\n",
       "      <td>Hangouts</td>\n",
       "      <td>5000000000</td>\n",
       "    </tr>\n",
       "    <tr>\n",
       "      <th>944254</th>\n",
       "      <td>Google Chrome: Fast &amp; Secure</td>\n",
       "      <td>5000000000</td>\n",
       "    </tr>\n",
       "    <tr>\n",
       "      <th>1060335</th>\n",
       "      <td>Google Text-to-Speech</td>\n",
       "      <td>5000000000</td>\n",
       "    </tr>\n",
       "    <tr>\n",
       "      <th>1733042</th>\n",
       "      <td>Google Maps - Navigate &amp; Explore</td>\n",
       "      <td>5000000000</td>\n",
       "    </tr>\n",
       "    <tr>\n",
       "      <th>1773294</th>\n",
       "      <td>Google</td>\n",
       "      <td>5000000000</td>\n",
       "    </tr>\n",
       "  </tbody>\n",
       "</table>\n",
       "</div>"
      ],
      "text/plain": [
       "                                        App Name     Installs\n",
       "2155096                     Google Play services  10000000000\n",
       "167781   Google TV (previously Play Movies & TV)   5000000000\n",
       "385470                        WhatsApp Messenger   5000000000\n",
       "881403                                   YouTube   5000000000\n",
       "893676                              Google Drive   5000000000\n",
       "925338                                  Hangouts   5000000000\n",
       "944254              Google Chrome: Fast & Secure   5000000000\n",
       "1060335                    Google Text-to-Speech   5000000000\n",
       "1733042         Google Maps - Navigate & Explore   5000000000\n",
       "1773294                                   Google   5000000000"
      ]
     },
     "execution_count": 21,
     "metadata": {},
     "output_type": "execute_result"
    }
   ],
   "source": [
    "# Identify the top 10 most downloaded apps\n",
    "top_downloaded_apps = df.nlargest(10, 'Installs')\n",
    "\n",
    "# Display the results\n",
    "top_downloaded_apps[['App Name', 'Installs']]"
   ]
  },
  {
   "cell_type": "markdown",
   "id": "58ee4d5a",
   "metadata": {
    "papermill": {
     "duration": 0.011396,
     "end_time": "2024-09-21T08:45:34.027477",
     "exception": false,
     "start_time": "2024-09-21T08:45:34.016081",
     "status": "completed"
    },
    "tags": []
   },
   "source": [
    "## Conclusion:\n",
    "This list provides a clear view of the most popular apps, which can inform marketing strategies and product development."
   ]
  },
  {
   "cell_type": "markdown",
   "id": "2beb6e9a",
   "metadata": {
    "papermill": {
     "duration": 0.016488,
     "end_time": "2024-09-21T08:45:34.055732",
     "exception": false,
     "start_time": "2024-09-21T08:45:34.039244",
     "status": "completed"
    },
    "tags": []
   },
   "source": [
    "## 🔗 Step 5: Correlation Between Ratings and Installs\n",
    "Analysis\n",
    "Next, we will explore whether there is a correlation between app ratings and the number of installs."
   ]
  },
  {
   "cell_type": "code",
   "execution_count": 22,
   "id": "acad40e3",
   "metadata": {
    "execution": {
     "iopub.execute_input": "2024-09-21T08:45:34.088286Z",
     "iopub.status.busy": "2024-09-21T08:45:34.087290Z",
     "iopub.status.idle": "2024-09-21T08:45:34.135193Z",
     "shell.execute_reply": "2024-09-21T08:45:34.134112Z"
    },
    "papermill": {
     "duration": 0.068017,
     "end_time": "2024-09-21T08:45:34.137401",
     "exception": false,
     "start_time": "2024-09-21T08:45:34.069384",
     "status": "completed"
    },
    "tags": []
   },
   "outputs": [
    {
     "name": "stdout",
     "output_type": "stream",
     "text": [
      "Correlation between Rating and Installs: 0.01\n"
     ]
    }
   ],
   "source": [
    "# Calculate the correlation between Ratings and Installs\n",
    "correlation = df['Rating'].corr(df['Installs'])\n",
    "print(f'Correlation between Rating and Installs: {correlation:.2f}')\n"
   ]
  },
  {
   "cell_type": "code",
   "execution_count": 23,
   "id": "e2e3a165",
   "metadata": {
    "execution": {
     "iopub.execute_input": "2024-09-21T08:45:34.162983Z",
     "iopub.status.busy": "2024-09-21T08:45:34.162045Z",
     "iopub.status.idle": "2024-09-21T08:45:39.215646Z",
     "shell.execute_reply": "2024-09-21T08:45:39.214649Z"
    },
    "papermill": {
     "duration": 5.068588,
     "end_time": "2024-09-21T08:45:39.217799",
     "exception": false,
     "start_time": "2024-09-21T08:45:34.149211",
     "status": "completed"
    },
    "tags": []
   },
   "outputs": [
    {
     "data": {
      "image/png": "[encoded data removed]",
      "text/plain": [
       "<Figure size 1000x600 with 1 Axes>"
      ]
     },
     "metadata": {},
     "output_type": "display_data"
    }
   ],
   "source": [
    "# Scatter plot to visualize the correlation\n",
    "plt.figure(figsize=(10, 6))\n",
    "sns.scatterplot(data=df, x='Rating', y='Installs')\n",
    "plt.title('Correlation Between Rating and Installs')\n",
    "plt.xlabel('Rating')\n",
    "plt.ylabel('Number of Installs')\n",
    "plt.xscale('linear')\n",
    "plt.yscale('log')  # Log scale for better visualization\n",
    "plt.show()"
   ]
  },
  {
   "cell_type": "markdown",
   "id": "6a63038f",
   "metadata": {
    "papermill": {
     "duration": 0.012321,
     "end_time": "2024-09-21T08:45:39.243034",
     "exception": false,
     "start_time": "2024-09-21T08:45:39.230713",
     "status": "completed"
    },
    "tags": []
   },
   "source": [
    "## Interpretation\n",
    "- A correlation coefficient of **0.01** indicates a very weak positive relationship between **Rating** and **Installs**. This suggests that changes in the **Rating** of an app have little to no impact on the number of **Installs** it receives."
   ]
  },
  {
   "cell_type": "markdown",
   "id": "da0bcb0b",
   "metadata": {
    "papermill": {
     "duration": 0.012238,
     "end_time": "2024-09-21T08:45:39.267769",
     "exception": false,
     "start_time": "2024-09-21T08:45:39.255531",
     "status": "completed"
    },
    "tags": []
   },
   "source": [
    "## 📊 Step 6: Average Rating by Category Analysis\n",
    "We will analyze the average ratings for apps across different categories to identify which types of apps are best received."
   ]
  },
  {
   "cell_type": "code",
   "execution_count": 24,
   "id": "abc19a5b",
   "metadata": {
    "execution": {
     "iopub.execute_input": "2024-09-21T08:45:39.294870Z",
     "iopub.status.busy": "2024-09-21T08:45:39.294099Z",
     "iopub.status.idle": "2024-09-21T08:45:39.508896Z",
     "shell.execute_reply": "2024-09-21T08:45:39.507895Z"
    },
    "papermill": {
     "duration": 0.230666,
     "end_time": "2024-09-21T08:45:39.511102",
     "exception": false,
     "start_time": "2024-09-21T08:45:39.280436",
     "status": "completed"
    },
    "tags": []
   },
   "outputs": [
    {
     "data": {
      "text/plain": [
       "Category\n",
       "Role Playing    3.389705\n",
       "Casino          3.282606\n",
       "Simulation      3.213463\n",
       "Weather         3.124712\n",
       "Card            3.090966\n",
       "Name: Rating, dtype: float64"
      ]
     },
     "execution_count": 24,
     "metadata": {},
     "output_type": "execute_result"
    }
   ],
   "source": [
    "# Calculate average rating by category\n",
    "average_rating_by_category = df.groupby('Category')['Rating'].mean().sort_values(ascending=False)\n",
    "\n",
    "# Display the results\n",
    "average_rating_by_category.head()"
   ]
  },
  {
   "cell_type": "code",
   "execution_count": 25,
   "id": "f65d6bf8",
   "metadata": {
    "execution": {
     "iopub.execute_input": "2024-09-21T08:45:39.590289Z",
     "iopub.status.busy": "2024-09-21T08:45:39.589360Z",
     "iopub.status.idle": "2024-09-21T08:45:40.128521Z",
     "shell.execute_reply": "2024-09-21T08:45:40.127493Z"
    },
    "papermill": {
     "duration": 0.607311,
     "end_time": "2024-09-21T08:45:40.131340",
     "exception": false,
     "start_time": "2024-09-21T08:45:39.524029",
     "status": "completed"
    },
    "tags": []
   },
   "outputs": [
    {
     "data": {
      "image/png": "[encoded data removed]",
      "text/plain": [
       "<Figure size 1200x600 with 1 Axes>"
      ]
     },
     "metadata": {},
     "output_type": "display_data"
    }
   ],
   "source": [
    "# Bar plot for average rating by category\n",
    "plt.figure(figsize=(12, 6))\n",
    "average_rating_by_category.plot(kind='bar')\n",
    "plt.title('Average Rating by Category')\n",
    "plt.xlabel('Category')\n",
    "plt.ylabel('Average Rating')\n",
    "plt.xticks(rotation=45)\n",
    "plt.show()"
   ]
  },
  {
   "cell_type": "markdown",
   "id": "846f3926",
   "metadata": {
    "papermill": {
     "duration": 0.014424,
     "end_time": "2024-09-21T08:45:40.162811",
     "exception": false,
     "start_time": "2024-09-21T08:45:40.148387",
     "status": "completed"
    },
    "tags": []
   },
   "source": [
    "As, You can see on x axis categories is not readable , so lets try for top 10 categories based on ratings."
   ]
  },
  {
   "cell_type": "code",
   "execution_count": 26,
   "id": "e8fcfda3",
   "metadata": {
    "execution": {
     "iopub.execute_input": "2024-09-21T08:45:40.194798Z",
     "iopub.status.busy": "2024-09-21T08:45:40.193879Z",
     "iopub.status.idle": "2024-09-21T08:45:40.198812Z",
     "shell.execute_reply": "2024-09-21T08:45:40.197860Z"
    },
    "papermill": {
     "duration": 0.023146,
     "end_time": "2024-09-21T08:45:40.200794",
     "exception": false,
     "start_time": "2024-09-21T08:45:40.177648",
     "status": "completed"
    },
    "tags": []
   },
   "outputs": [],
   "source": [
    "Top_10_average_rating_by_category = average_rating_by_category.head(10)"
   ]
  },
  {
   "cell_type": "code",
   "execution_count": 27,
   "id": "ca565358",
   "metadata": {
    "execution": {
     "iopub.execute_input": "2024-09-21T08:45:40.231925Z",
     "iopub.status.busy": "2024-09-21T08:45:40.230991Z",
     "iopub.status.idle": "2024-09-21T08:45:40.491710Z",
     "shell.execute_reply": "2024-09-21T08:45:40.490691Z"
    },
    "papermill": {
     "duration": 0.278661,
     "end_time": "2024-09-21T08:45:40.494015",
     "exception": false,
     "start_time": "2024-09-21T08:45:40.215354",
     "status": "completed"
    },
    "tags": []
   },
   "outputs": [
    {
     "data": {
      "image/png": "[encoded data removed]",
      "text/plain": [
       "<Figure size 1200x600 with 1 Axes>"
      ]
     },
     "metadata": {},
     "output_type": "display_data"
    }
   ],
   "source": [
    "# Bar plot for average rating by category\n",
    "plt.figure(figsize=(12, 6))\n",
    "Top_10_average_rating_by_category.plot(kind='bar')\n",
    "plt.title('Average Rating by Category')\n",
    "plt.xlabel('Category')\n",
    "plt.ylabel('Average Rating')\n",
    "plt.xticks(rotation=45)\n",
    "plt.show()"
   ]
  },
  {
   "cell_type": "markdown",
   "id": "5675642f",
   "metadata": {
    "papermill": {
     "duration": 0.015441,
     "end_time": "2024-09-21T08:45:40.525177",
     "exception": false,
     "start_time": "2024-09-21T08:45:40.509736",
     "status": "completed"
    },
    "tags": []
   },
   "source": [
    "## 📝 Summary of Findings\n",
    "Top 10 Most Downloaded Apps: Identified key players in the market.\n",
    "Correlation Analysis: Found a relationship between app ratings and installs.\n",
    "Average Ratings by Category: Highlighted which categories are most popular among users."
   ]
  },
  {
   "cell_type": "markdown",
   "id": "5865a3de",
   "metadata": {
    "papermill": {
     "duration": 0.015036,
     "end_time": "2024-09-21T08:45:40.555566",
     "exception": false,
     "start_time": "2024-09-21T08:45:40.540530",
     "status": "completed"
    },
    "tags": []
   },
   "source": [
    "## 🔍 Conclusion\n",
    "This analysis provides valuable insights into app popularity in the Google Play Store. Understanding the relationship between ratings and installs can help stakeholders make informed decisions regarding app development and marketing strategies.\n",
    "\n",
    "## Recommendations\n",
    "Focus on Quality: Apps with higher ratings tend to attract more downloads; improving app quality can enhance visibility.\n",
    "Target High-Performing Categories: Developers should consider focusing on categories with high average ratings for new app development.\n",
    "Monitor Market Trends: Regular analysis can help stay ahead in the competitive app market."
   ]
  }
 ],
 "metadata": {
  "kaggle": {
   "accelerator": "none",
   "dataSources": [
    {
     "datasetId": 157336,
     "sourceId": 2344679,
     "sourceType": "datasetVersion"
    }
   ],
   "dockerImageVersionId": 30761,
   "isGpuEnabled": false,
   "isInternetEnabled": true,
   "language": "python",
   "sourceType": "notebook"
  },
  "kernelspec": {
   "display_name": "Python 3",
   "language": "python",
   "name": "python3"
  },
  "language_info": {
   "codemirror_mode": {
    "name": "ipython",
    "version": 3
   },
   "file_extension": ".py",
   "mimetype": "text/x-python",
   "name": "python",
   "nbconvert_exporter": "python",
   "pygments_lexer": "ipython3",
   "version": "3.10.14"
  },
  "papermill": {
   "default_parameters": {},
   "duration": 57.602275,
   "end_time": "2024-09-21T08:45:41.793397",
   "environment_variables": {},
   "exception": null,
   "input_path": "__notebook__.ipynb",
   "output_path": "__notebook__.ipynb",
   "parameters": {},
   "start_time": "2024-09-21T08:44:44.191122",
   "version": "2.6.0"
  }
 },
 "nbformat": 4,
 "nbformat_minor": 5
}
